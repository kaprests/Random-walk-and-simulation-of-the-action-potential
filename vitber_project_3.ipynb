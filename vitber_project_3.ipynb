{
 "cells": [
  {
   "cell_type": "markdown",
   "metadata": {},
   "source": [
    "<h1>Simulating the action potential with random walk of ions</h1>\n",
    "\n",
    "<h3>GroupXX: Us :p</h3>\n",
    "\n",
    "<h2>Abstract</h2>\n",
    "\n",
    "<h2>1 - Theory</h2>\n",
    "\n",
    "**Teori**\n",
    "\n",
    "<h2>2 - Excercises</h2>\n",
    "\n",
    "**Excercises**\n",
    "\n",
    "<h2>3 - Programming</h2>\n"
   ]
  },
  {
   "cell_type": "code",
   "execution_count": null,
   "metadata": {},
   "outputs": [],
   "source": [
    "import numpy as np\n",
    "from matplotlib import pyplot as plt \n",
    "from scipy.stats import norm\n",
    "\n",
    "N = 1000\n",
    "steps = 100 \n",
    "field = 2*steps\n",
    "x_vec = np.linspace(-steps, steps, field)\n",
    "\n",
    "particles = np.zeros([N, field])\n",
    "particles.T[steps] = np.ones(N)\n",
    "\n",
    "for i in range(steps):\n",
    "    steps_vec = np.around(np.random.rand(N))\n",
    "    steps_vec[steps_vec == 0] = -1\n",
    "    for j in range(N):\n",
    "        particles[j] = np.roll(particles[j], int(steps_vec[j]))\n",
    "\n",
    "dist = np.sum(particles, 0)\n",
    "params = norm.fit(dist)\n",
    "print(params)\n",
    "fitted_pdf = norm.pdf(x_vec, loc = params[0], scale = params[1])\n",
    "\n",
    "fig, ax1 = plt.subplots()\n",
    "ax2 = ax1.twinx()\n",
    "ax1.bar(x_vec, dist)\n",
    "ax2.plot(x_vec, fitted_pdf)\n",
    "\n",
    "plt.show()"
   ]
  }
 ],
 "metadata": {
  "language_info": {
   "name": "python",
   "pygments_lexer": "ipython3"
  }
 },
 "nbformat": 4,
 "nbformat_minor": 2
}
