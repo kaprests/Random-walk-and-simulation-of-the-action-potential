{
 "cells": [
  {
   "cell_type": "markdown",
   "metadata": {},
   "source": [
    "<h1>Simulating the action potential with random walk of ions</h1>\n",
    "\n",
    "<h3>GroupXX: Us :p</h3>\n",
    "\n",
    "<h2>Abstract</h2>\n",
    "\n",
    "<h2>1 - Theory</h2>\n",
    "\n",
    "**Teori**\n",
    "\n",
    "<h2>2 - Excercises</h2>\n",
    "\n",
    "**Excercises**\n",
    "\n",
    "<h2>3 - Programming</h2>\n"
   ]
  },
  {
   "cell_type": "markdown",
   "metadata": {},
   "source": [
    "## 2 - The diffusion equation\n",
    "\n",
    "**2.1**\n",
    "Show that the function\n",
    "\n",
    "$$ \n",
    "\\tilde{\\phi}(x,t) = \\frac{1}{\\sqrt{4 \\pi Dt}} e^{-\\frac{(x-\\mu)^2}{4Dt}},\n",
    "$$\n",
    "\n",
    "where $D$ is a constant, is a solution of the diffusion equation\n",
    "\n",
    "$$\n",
    "\\frac{\\partial \\phi (x,t)}{\\partial t} = D \\frac{\\partial^2 \\phi (x,t)}{\\partial x^2}.\n",
    "$$\n",
    "\n",
    "The left side of the equation is solved by differentiating with respect to $t$.\n",
    "\n",
    "$$\n",
    "\\frac{\\partial}{\\partial t} \\frac{1}{\\sqrt{4 \\pi Dt}} e^{-\\frac{(x-\\mu)^2}{4Dt}} \n",
    "= \n",
    "\\left( \\frac{1}{\\sqrt{4 \\pi Dt}} \\right)' e^{-\\frac{(x-\\mu)^2}{4Dt}} \n",
    "+ \n",
    "\\frac{1}{\\sqrt{4 \\pi Dt}} \\left(e^{-\\frac{(x-\\mu)^2}{4Dt}}\\right)' \n",
    "=\n",
    "- \\frac{1}{4\\sqrt{D\\pi}t^{3/2}}e^{-\\frac{(x-\\mu)^2}{4Dt}} \n",
    "+\n",
    "\\frac{(x-\\mu)^2}{(4D)^{3/2}\\sqrt{\\pi}t^{5/2}}e^{-\\frac{(x-\\mu)^2}{4Dt}}\n",
    "=\n",
    "\\frac{1}{4\\sqrt{D\\pi}t^{3/2}} e^{-\\frac{(x-\\mu)^2}{4Dt}}\n",
    "\\left(\\frac{(x-\\mu)^2}{\\sqrt{4}t}-1\\right)\n",
    "$$\n",
    "\n",
    "The right side is then solved by differentiating twice with respect to $x$, times the constant $D$.\n",
    "\n",
    "$$\n",
    "\\frac{\\partial}{\\partial x} \\frac{1}{\\sqrt{4 \\pi Dt}} e^{-\\frac{(x-\\mu)^2}{4Dt}} = - \\frac{2(x-\\mu)}{(4Dt)^{3/2}\\sqrt{\\pi}}e^{-\\frac{(x-\\mu)^2}{4Dt}}\n",
    "$$\n",
    "<br>\n",
    "$$\n",
    "-\\frac{\\partial}{\\partial x} \\frac{2(x-\\mu)}{(4Dt)^{3/2}\\sqrt{\\pi}} e^{-\\frac{(x-\\mu)^2}{4Dt}}\n",
    "= \\frac{2(x-\\mu)}{(4Dt)^{3/2}\\sqrt{\\pi}} \\left( e^{-\\frac{(x-\\mu)^2}{4Dt} \\right)' \n",
    "- \\left( \\frac{2(x-\\mu)}{(4Dt)^{3/2}\\sqrt{\\pi}}\\right)' e^{-\\frac{(x-\\mu)^2}{4Dt}}\n",
    "$$"
   ]
  },
  {
   "cell_type": "code",
   "execution_count": 2,
   "metadata": {},
   "outputs": [
    {
     "name": "stdout",
     "output_type": "stream",
     "text": [
      "(5.0, 16.135674761223964)\n"
     ]
    },
    {
     "data": {
      "image/png": "[encoded data removed]",
      "text/plain": [
       "<Figure size 432x288 with 2 Axes>"
      ]
     },
     "metadata": {
      "needs_background": "light"
     },
     "output_type": "display_data"
    }
   ],
   "source": [
    "import numpy as np\n",
    "from matplotlib import pyplot as plt \n",
    "from scipy.stats import norm\n",
    "\n",
    "N = 1000\n",
    "steps = 100 \n",
    "field = 2*steps\n",
    "x_vec = np.linspace(-steps, steps, field)\n",
    "\n",
    "particles = np.zeros([N, field])\n",
    "particles.T[steps] = np.ones(N)\n",
    "\n",
    "for i in range(steps):\n",
    "    steps_vec = np.around(np.random.rand(N))\n",
    "    steps_vec[steps_vec == 0] = -1\n",
    "    for j in range(N):\n",
    "        particles[j] = np.roll(particles[j], int(steps_vec[j]))\n",
    "\n",
    "dist = np.sum(particles, 0)\n",
    "params = norm.fit(dist)\n",
    "print(params)\n",
    "fitted_pdf = norm.pdf(x_vec, loc = params[0], scale = params[1])\n",
    "\n",
    "fig, ax1 = plt.subplots()\n",
    "ax2 = ax1.twinx()\n",
    "ax1.bar(x_vec, dist)\n",
    "ax2.plot(x_vec, fitted_pdf)\n",
    "\n",
    "plt.show()"
   ]
  },
  {
   "cell_type": "code",
   "execution_count": null,
   "metadata": {},
   "outputs": [],
   "source": []
  }
 ],
 "metadata": {
  "kernelspec": {
   "display_name": "Python 3",
   "language": "python",
   "name": "python3"
  },
  "language_info": {
   "codemirror_mode": {
    "name": "ipython",
    "version": 3
   },
   "file_extension": ".py",
   "mimetype": "text/x-python",
   "name": "python",
   "nbconvert_exporter": "python",
   "pygments_lexer": "ipython3",
   "version": "3.7.1"
  }
 },
 "nbformat": 4,
 "nbformat_minor": 2
}
